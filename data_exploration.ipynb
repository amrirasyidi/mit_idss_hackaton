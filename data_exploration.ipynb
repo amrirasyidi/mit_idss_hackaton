{
  "cells": [
    {
      "cell_type": "markdown",
      "metadata": {
        "id": "XbWNrcE6lUeO"
      },
      "source": [
        "# INTRODUCTION"
      ]
    },
    {
      "cell_type": "markdown",
      "metadata": {
        "id": "CHyBY_57lUeT"
      },
      "source": [
        "## Goal\n",
        "\n",
        "The goal of the problem is to predict whether a passenger was satisfied or not considering his/her overall experience of traveling on the Shinkansen Bullet Train."
      ]
    },
    {
      "cell_type": "markdown",
      "metadata": {
        "id": "NwvWP6a5lUeV"
      },
      "source": [
        "## Dataset\n",
        "\n",
        "The problem consists of 2 separate datasets: Travel data & Survey data. Travel data has information related to passengers and attributes related to the Shinkansen train, in which they traveled. The survey data is aggregated data of surveys indicating the post-service experience. You are expected to treat both these datasets as raw data and perform any necessary data cleaning/validation steps as required."
      ]
    },
    {
      "cell_type": "code",
      "execution_count": null,
      "metadata": {
        "id": "AvbHhumwlUeW"
      },
      "outputs": [],
      "source": []
    },
    {
      "cell_type": "markdown",
      "metadata": {
        "id": "rx27R-J3lUeZ"
      },
      "source": [
        "# SET UP"
      ]
    },
    {
      "cell_type": "code",
      "source": [
        "%%capture\n",
        "!pip install polars"
      ],
      "metadata": {
        "id": "MQcsoIuOlXq2"
      },
      "execution_count": 2,
      "outputs": []
    },
    {
      "cell_type": "code",
      "execution_count": 3,
      "metadata": {
        "id": "YbmSVbBIlUea"
      },
      "outputs": [],
      "source": [
        "# data processing lib\n",
        "import numpy as np\n",
        "import pandas as pd\n",
        "import polars as pl\n",
        "\n",
        "# data viz lib\n",
        "import matplotlib.pyplot as plt\n",
        "import seaborn as sns\n",
        "import plotly.express as px\n",
        "import plotly.graph_objects as go\n",
        "from plotly import subplots"
      ]
    },
    {
      "cell_type": "code",
      "source": [
        "train_travel_link = \"https://raw.githubusercontent.com/amrirasyidi/mit_idss_hackaton/main/data/Traveldata_train.csv\"\n",
        "train_survey_link = \"https://raw.githubusercontent.com/amrirasyidi/mit_idss_hackaton/main/data/Surveydata_train.csv\"\n",
        "\n",
        "test_travel_link = \"https://raw.githubusercontent.com/amrirasyidi/mit_idss_hackaton/main/data/Traveldata_test.csv\"\n",
        "test_survey_link = \"https://raw.githubusercontent.com/amrirasyidi/mit_idss_hackaton/main/data/Surveydata_test.csv\"\n",
        "\n",
        "train_travel = pl.read_csv(train_travel_link, infer_schema_length=0).lazy()\n",
        "train_survey = pl.read_csv(train_survey_link, infer_schema_length=0).lazy()\n",
        "\n",
        "test_travel = pl.read_csv(test_travel_link, infer_schema_length=0).lazy()\n",
        "test_survey = pl.read_csv(test_survey_link, infer_schema_length=0).lazy()"
      ],
      "metadata": {
        "id": "_khSrLv9nVDX"
      },
      "execution_count": 59,
      "outputs": []
    },
    {
      "cell_type": "code",
      "source": [
        "# rename columns\n",
        "\n",
        "COLUMN_MAPPING = {col:col.lower() for col in train_travel.columns}\n",
        "train_travel = train_travel.rename(COLUMN_MAPPING)"
      ],
      "metadata": {
        "id": "6S8RKCxmuq9B"
      },
      "execution_count": 60,
      "outputs": []
    },
    {
      "cell_type": "code",
      "source": [
        "train_travel = train_travel.with_column(\n",
        "    pl.col([\n",
        "        \"id\",\n",
        "        \"age\",\n",
        "        \"travel_distance\",\n",
        "        \"departure_delay_in_mins\",\n",
        "        \"arrival_delay_in_mins\",\n",
        "        ]).cast(pl.Int64, strict=False)\n",
        ")"
      ],
      "metadata": {
        "id": "NiWRlnn3ou-Z"
      },
      "execution_count": 61,
      "outputs": []
    },
    {
      "cell_type": "code",
      "source": [
        "train_travel.head().collect()"
      ],
      "metadata": {
        "id": "agqkxfaCokZL",
        "outputId": "21aed87a-7671-4f7f-bd05-5d5e741b70be",
        "colab": {
          "base_uri": "https://localhost:8080/",
          "height": 231
        }
      },
      "execution_count": 62,
      "outputs": [
        {
          "output_type": "execute_result",
          "data": {
            "text/plain": [
              "shape: (5, 9)\n",
              "┌──────────┬────────┬────────────┬─────┬─────┬────────────┬────────────┬────────────┬──────────────┐\n",
              "│ id       ┆ gender ┆ customer_t ┆ age ┆ ... ┆ travel_cla ┆ travel_dis ┆ departure_ ┆ arrival_dela │\n",
              "│ ---      ┆ ---    ┆ ype        ┆ --- ┆     ┆ ss         ┆ tance      ┆ delay_in_m ┆ y_in_mins    │\n",
              "│ i64      ┆ str    ┆ ---        ┆ i64 ┆     ┆ ---        ┆ ---        ┆ ins        ┆ ---          │\n",
              "│          ┆        ┆ str        ┆     ┆     ┆ str        ┆ i64        ┆ ---        ┆ i64          │\n",
              "│          ┆        ┆            ┆     ┆     ┆            ┆            ┆ i64        ┆              │\n",
              "╞══════════╪════════╪════════════╪═════╪═════╪════════════╪════════════╪════════════╪══════════════╡\n",
              "│ 98800001 ┆ Female ┆ Loyal      ┆ 52  ┆ ... ┆ Business   ┆ 272        ┆ 0          ┆ 5            │\n",
              "│          ┆        ┆ Customer   ┆     ┆     ┆            ┆            ┆            ┆              │\n",
              "├╌╌╌╌╌╌╌╌╌╌┼╌╌╌╌╌╌╌╌┼╌╌╌╌╌╌╌╌╌╌╌╌┼╌╌╌╌╌┼╌╌╌╌╌┼╌╌╌╌╌╌╌╌╌╌╌╌┼╌╌╌╌╌╌╌╌╌╌╌╌┼╌╌╌╌╌╌╌╌╌╌╌╌┼╌╌╌╌╌╌╌╌╌╌╌╌╌╌┤\n",
              "│ 98800002 ┆ Male   ┆ Loyal      ┆ 48  ┆ ... ┆ Eco        ┆ 2200       ┆ 9          ┆ 0            │\n",
              "│          ┆        ┆ Customer   ┆     ┆     ┆            ┆            ┆            ┆              │\n",
              "├╌╌╌╌╌╌╌╌╌╌┼╌╌╌╌╌╌╌╌┼╌╌╌╌╌╌╌╌╌╌╌╌┼╌╌╌╌╌┼╌╌╌╌╌┼╌╌╌╌╌╌╌╌╌╌╌╌┼╌╌╌╌╌╌╌╌╌╌╌╌┼╌╌╌╌╌╌╌╌╌╌╌╌┼╌╌╌╌╌╌╌╌╌╌╌╌╌╌┤\n",
              "│ 98800003 ┆ Female ┆ Loyal      ┆ 43  ┆ ... ┆ Business   ┆ 1061       ┆ 77         ┆ 119          │\n",
              "│          ┆        ┆ Customer   ┆     ┆     ┆            ┆            ┆            ┆              │\n",
              "├╌╌╌╌╌╌╌╌╌╌┼╌╌╌╌╌╌╌╌┼╌╌╌╌╌╌╌╌╌╌╌╌┼╌╌╌╌╌┼╌╌╌╌╌┼╌╌╌╌╌╌╌╌╌╌╌╌┼╌╌╌╌╌╌╌╌╌╌╌╌┼╌╌╌╌╌╌╌╌╌╌╌╌┼╌╌╌╌╌╌╌╌╌╌╌╌╌╌┤\n",
              "│ 98800004 ┆ Female ┆ Loyal      ┆ 44  ┆ ... ┆ Business   ┆ 780        ┆ 13         ┆ 18           │\n",
              "│          ┆        ┆ Customer   ┆     ┆     ┆            ┆            ┆            ┆              │\n",
              "├╌╌╌╌╌╌╌╌╌╌┼╌╌╌╌╌╌╌╌┼╌╌╌╌╌╌╌╌╌╌╌╌┼╌╌╌╌╌┼╌╌╌╌╌┼╌╌╌╌╌╌╌╌╌╌╌╌┼╌╌╌╌╌╌╌╌╌╌╌╌┼╌╌╌╌╌╌╌╌╌╌╌╌┼╌╌╌╌╌╌╌╌╌╌╌╌╌╌┤\n",
              "│ 98800005 ┆ Female ┆ Loyal      ┆ 50  ┆ ... ┆ Business   ┆ 1981       ┆ 0          ┆ 0            │\n",
              "│          ┆        ┆ Customer   ┆     ┆     ┆            ┆            ┆            ┆              │\n",
              "└──────────┴────────┴────────────┴─────┴─────┴────────────┴────────────┴────────────┴──────────────┘"
            ],
            "text/html": [
              "<div>\n",
              "<style scoped>\n",
              "    .dataframe tbody tr th:only-of-type {\n",
              "        vertical-align: middle;\n",
              "    }\n",
              "\n",
              "    .dataframe tbody tr th {\n",
              "        vertical-align: top;\n",
              "    }\n",
              "\n",
              "    .dataframe thead th {\n",
              "        text-align: right;\n",
              "    }\n",
              "\n",
              "    .dataframe td {\n",
              "        white-space: pre;\n",
              "    }\n",
              "\n",
              "    .dataframe td {\n",
              "        padding-top: 0;\n",
              "    }\n",
              "\n",
              "    .dataframe td {\n",
              "        padding-bottom: 0;\n",
              "    }\n",
              "\n",
              "    .dataframe td {\n",
              "        line-height: 95%;\n",
              "    }\n",
              "</style>\n",
              "<table border=\"1\" class=\"dataframe\" >\n",
              "<small>shape: (5, 9)</small>\n",
              "<thead>\n",
              "<tr>\n",
              "<th>\n",
              "id\n",
              "</th>\n",
              "<th>\n",
              "gender\n",
              "</th>\n",
              "<th>\n",
              "customer_type\n",
              "</th>\n",
              "<th>\n",
              "age\n",
              "</th>\n",
              "<th>\n",
              "type_travel\n",
              "</th>\n",
              "<th>\n",
              "travel_class\n",
              "</th>\n",
              "<th>\n",
              "travel_distance\n",
              "</th>\n",
              "<th>\n",
              "departure_delay_in_mins\n",
              "</th>\n",
              "<th>\n",
              "arrival_delay_in_mins\n",
              "</th>\n",
              "</tr>\n",
              "<tr>\n",
              "<td>\n",
              "i64\n",
              "</td>\n",
              "<td>\n",
              "str\n",
              "</td>\n",
              "<td>\n",
              "str\n",
              "</td>\n",
              "<td>\n",
              "i64\n",
              "</td>\n",
              "<td>\n",
              "str\n",
              "</td>\n",
              "<td>\n",
              "str\n",
              "</td>\n",
              "<td>\n",
              "i64\n",
              "</td>\n",
              "<td>\n",
              "i64\n",
              "</td>\n",
              "<td>\n",
              "i64\n",
              "</td>\n",
              "</tr>\n",
              "</thead>\n",
              "<tbody>\n",
              "<tr>\n",
              "<td>\n",
              "98800001\n",
              "</td>\n",
              "<td>\n",
              "&quot;Female&quot;\n",
              "</td>\n",
              "<td>\n",
              "&quot;Loyal Customer...\n",
              "</td>\n",
              "<td>\n",
              "52\n",
              "</td>\n",
              "<td>\n",
              "null\n",
              "</td>\n",
              "<td>\n",
              "&quot;Business&quot;\n",
              "</td>\n",
              "<td>\n",
              "272\n",
              "</td>\n",
              "<td>\n",
              "0\n",
              "</td>\n",
              "<td>\n",
              "5\n",
              "</td>\n",
              "</tr>\n",
              "<tr>\n",
              "<td>\n",
              "98800002\n",
              "</td>\n",
              "<td>\n",
              "&quot;Male&quot;\n",
              "</td>\n",
              "<td>\n",
              "&quot;Loyal Customer...\n",
              "</td>\n",
              "<td>\n",
              "48\n",
              "</td>\n",
              "<td>\n",
              "&quot;Personal Trave...\n",
              "</td>\n",
              "<td>\n",
              "&quot;Eco&quot;\n",
              "</td>\n",
              "<td>\n",
              "2200\n",
              "</td>\n",
              "<td>\n",
              "9\n",
              "</td>\n",
              "<td>\n",
              "0\n",
              "</td>\n",
              "</tr>\n",
              "<tr>\n",
              "<td>\n",
              "98800003\n",
              "</td>\n",
              "<td>\n",
              "&quot;Female&quot;\n",
              "</td>\n",
              "<td>\n",
              "&quot;Loyal Customer...\n",
              "</td>\n",
              "<td>\n",
              "43\n",
              "</td>\n",
              "<td>\n",
              "&quot;Business Trave...\n",
              "</td>\n",
              "<td>\n",
              "&quot;Business&quot;\n",
              "</td>\n",
              "<td>\n",
              "1061\n",
              "</td>\n",
              "<td>\n",
              "77\n",
              "</td>\n",
              "<td>\n",
              "119\n",
              "</td>\n",
              "</tr>\n",
              "<tr>\n",
              "<td>\n",
              "98800004\n",
              "</td>\n",
              "<td>\n",
              "&quot;Female&quot;\n",
              "</td>\n",
              "<td>\n",
              "&quot;Loyal Customer...\n",
              "</td>\n",
              "<td>\n",
              "44\n",
              "</td>\n",
              "<td>\n",
              "&quot;Business Trave...\n",
              "</td>\n",
              "<td>\n",
              "&quot;Business&quot;\n",
              "</td>\n",
              "<td>\n",
              "780\n",
              "</td>\n",
              "<td>\n",
              "13\n",
              "</td>\n",
              "<td>\n",
              "18\n",
              "</td>\n",
              "</tr>\n",
              "<tr>\n",
              "<td>\n",
              "98800005\n",
              "</td>\n",
              "<td>\n",
              "&quot;Female&quot;\n",
              "</td>\n",
              "<td>\n",
              "&quot;Loyal Customer...\n",
              "</td>\n",
              "<td>\n",
              "50\n",
              "</td>\n",
              "<td>\n",
              "&quot;Business Trave...\n",
              "</td>\n",
              "<td>\n",
              "&quot;Business&quot;\n",
              "</td>\n",
              "<td>\n",
              "1981\n",
              "</td>\n",
              "<td>\n",
              "0\n",
              "</td>\n",
              "<td>\n",
              "0\n",
              "</td>\n",
              "</tr>\n",
              "</tbody>\n",
              "</table>\n",
              "</div>"
            ]
          },
          "metadata": {},
          "execution_count": 62
        }
      ]
    },
    {
      "cell_type": "code",
      "source": [
        "for i, v in enumerate(NULL_COUNT['pct']):\n",
        "  print(i,'{:.2%}'.format(v))"
      ],
      "metadata": {
        "id": "DY_4_zAI6Jm8",
        "outputId": "e90a94f5-63f6-4f1d-d5a3-887ca4e806b9",
        "colab": {
          "base_uri": "https://localhost:8080/"
        }
      },
      "execution_count": 115,
      "outputs": [
        {
          "output_type": "stream",
          "name": "stdout",
          "text": [
            "0 0.00%\n",
            "1 0.00%\n",
            "2 0.00%\n",
            "3 0.03%\n",
            "4 0.06%\n",
            "5 0.08%\n",
            "6 0.38%\n",
            "7 9.48%\n",
            "8 9.78%\n"
          ]
        }
      ]
    },
    {
      "cell_type": "code",
      "source": [
        "NULL_COUNT = train_travel.collect().null_count().transpose(include_header=True).sort(\"column_0\").to_pandas()\n",
        "NULL_COUNT['pct'] = (NULL_COUNT['column_0']/train_travel.collect().shape[0])\n",
        "\n",
        "fig, ax = plt.subplots(figsize = (15,6))\n",
        "\n",
        "width = .8\n",
        "\n",
        "bars = NULL_COUNT.column_0.plot.barh(color='green', ax=ax, width=width)\n",
        "\n",
        "for i, v in enumerate(NULL_COUNT['pct']):\n",
        "    ax.text(v + 100, i, '{:.2%}'.format(v), fontweight='bold')\n",
        "\n",
        "ax.set_ylabel('Variable');\n",
        "ax.set_yticklabels(train_travel.collect().columns);\n",
        "\n",
        "ax.set_xlabel('Count');\n",
        "\n",
        "ax.set_title(\"Null Value Count and Percentage\\nBy Column\", fontsize=20, fontweight='bold', fontfamily='monospace')"
      ],
      "metadata": {
        "id": "pSnUO_btyMv-",
        "outputId": "7853f8ef-e051-4f59-e869-98a0f002d8bc",
        "colab": {
          "base_uri": "https://localhost:8080/",
          "height": 448
        }
      },
      "execution_count": 119,
      "outputs": [
        {
          "output_type": "execute_result",
          "data": {
            "text/plain": [
              "Text(0.5, 1.0, 'Null Value Count and Percentage\\nBy Column')"
            ]
          },
          "metadata": {},
          "execution_count": 119
        },
        {
          "output_type": "display_data",
          "data": {
            "text/plain": [
              "<Figure size 1080x432 with 1 Axes>"
            ],
            "image/png": "[encoded data removed]"
          },
          "metadata": {
            "needs_background": "light"
          }
        }
      ]
    },
    {
      "cell_type": "code",
      "source": [
        "plt.__version__"
      ],
      "metadata": {
        "id": "OQJuqGIwwGRM",
        "outputId": "29ba52e8-a852-4021-aa62-823115e7562b",
        "colab": {
          "base_uri": "https://localhost:8080/",
          "height": 165
        }
      },
      "execution_count": 104,
      "outputs": [
        {
          "output_type": "error",
          "ename": "AttributeError",
          "evalue": "ignored",
          "traceback": [
            "\u001b[0;31m---------------------------------------------------------------------------\u001b[0m",
            "\u001b[0;31mAttributeError\u001b[0m                            Traceback (most recent call last)",
            "\u001b[0;32m<ipython-input-104-258ef2d68aad>\u001b[0m in \u001b[0;36m<module>\u001b[0;34m\u001b[0m\n\u001b[0;32m----> 1\u001b[0;31m \u001b[0mplt\u001b[0m\u001b[0;34m.\u001b[0m\u001b[0m__version__\u001b[0m\u001b[0;34m\u001b[0m\u001b[0;34m\u001b[0m\u001b[0m\n\u001b[0m",
            "\u001b[0;31mAttributeError\u001b[0m: module 'matplotlib.pyplot' has no attribute '__version__'"
          ]
        }
      ]
    },
    {
      "cell_type": "code",
      "source": [],
      "metadata": {
        "id": "a7n4OjjqCQII"
      },
      "execution_count": null,
      "outputs": []
    }
  ],
  "metadata": {
    "language_info": {
      "name": "python"
    },
    "orig_nbformat": 4,
    "colab": {
      "provenance": []
    },
    "kernelspec": {
      "name": "python3",
      "display_name": "Python 3"
    },
    "gpuClass": "standard"
  },
  "nbformat": 4,
  "nbformat_minor": 0
}